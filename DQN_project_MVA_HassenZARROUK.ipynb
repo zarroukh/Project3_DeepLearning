{
 "cells": [
  {
   "cell_type": "markdown",
   "metadata": {},
   "source": [
    "**You may need to install [OpenCV](https://pypi.python.org/pypi/opencv-python) and [scikit-video](http://www.scikit-video.org/stable/).**"
   ]
  },
  {
   "cell_type": "code",
   "execution_count": 16,
   "metadata": {},
   "outputs": [],
   "source": [
    "import keras\n",
    "import numpy as np\n",
    "import io\n",
    "import base64\n",
    "from IPython.display import HTML\n",
    "import skvideo.io\n",
    "import cv2\n",
    "import json\n",
    "\n",
    "from keras.models import Sequential,model_from_json\n",
    "from keras.layers.core import Dense\n",
    "from keras.optimizers import sgd\n",
    "from keras.layers import Flatten, Conv2D, MaxPooling2D, Activation, AveragePooling2D,Reshape,BatchNormalization\n",
    "\n",
    "import os\n",
    "os.environ['KMP_DUPLICATE_LIB_OK']='True'"
   ]
  },
  {
   "cell_type": "markdown",
   "metadata": {},
   "source": [
    "# MiniProject #3: Deep Reinforcement Learning"
   ]
  },
  {
   "cell_type": "markdown",
   "metadata": {},
   "source": [
    "__Notations__: $E_p$ is the expectation under probability $p$. Please justify each of your answer and widely comment your code."
   ]
  },
  {
   "cell_type": "markdown",
   "metadata": {},
   "source": [
    "# Context"
   ]
  },
  {
   "cell_type": "markdown",
   "metadata": {},
   "source": [
    "In a reinforcement learning algorithm, we modelize each step $t$ as an action $a_t$ obtained from a state $s_t$, i.e. $\\{(a_{t},s_{t})_{t\\leq T}\\}$ having the Markov property. We consider a discount factor $\\gamma \\in [0,1]$ that ensures convergence. The goal is to find among all the policies $\\pi$, one that maximizes the expected reward:\n",
    "\n",
    "\\begin{equation*}\n",
    "R(\\pi)=\\sum_{t\\leq T}E_{p^{\\pi}}[\\gamma^t r(s_{t},a_{t})] \\> ,\n",
    "\\end{equation*}\n",
    "\n",
    "where: \n",
    "\\begin{equation*}p^{\\pi}(a_{0},a_{1},s_{1},...,a_{T},s_{T})=p(a_{0})\\prod_{t=1}^{T}\\pi(a_{t}|s_{t})p(s_{t+1}|s_{t},a_{t}) \\> .\n",
    "\\end{equation*}\n",
    "\n",
    "We note the $Q$-function:\n",
    "\n",
    "\\begin{equation*}Q^\\pi(s,a)=E_{p^{\\pi}}[\\sum_{t\\leq T}\\gamma^{t}r(s_{t},a_{t})|s_{0}=s,a_{0}=a] \\> .\n",
    "\\end{equation*}\n",
    "\n",
    "Thus, the optimal Q function is:\n",
    "\\begin{equation*}\n",
    "Q^*(s,a)=\\max_{\\pi}Q^\\pi(s,a) \\> .\n",
    "\\end{equation*}\n",
    "\n",
    "In this project, we will apply the deep reinforcement learning techniques to a simple game: an agent will have to learn from scratch a policy that will permit it maximizing a reward."
   ]
  },
  {
   "cell_type": "markdown",
   "metadata": {},
   "source": [
    "## The environment, the agent and the game"
   ]
  },
  {
   "cell_type": "markdown",
   "metadata": {},
   "source": [
    "### The environment"
   ]
  },
  {
   "cell_type": "markdown",
   "metadata": {},
   "source": [
    "```Environment``` is an abstract class that represents the states, rewards, and actions to obtain the new state."
   ]
  },
  {
   "cell_type": "code",
   "execution_count": 17,
   "metadata": {},
   "outputs": [],
   "source": [
    "class Environment(object):\n",
    "    def __init__(self):\n",
    "        pass\n",
    "\n",
    "    def act(self, act):\n",
    "        \"\"\"\n",
    "        One can act on the environment and obtain its reaction:\n",
    "        - the new state\n",
    "        - the reward of the new state\n",
    "        - should we continue the game?\n",
    "\n",
    "        :return: state, reward, game_over\n",
    "        \"\"\"\n",
    "        pass\n",
    "\n",
    "\n",
    "    def reset(self):\n",
    "        \"\"\"\n",
    "        Reinitialize the environment to a random state and returns\n",
    "        the original state\n",
    "\n",
    "        :return: state\n",
    "        \"\"\"\n",
    "        pass\n",
    "    \n",
    "    def draw(self):\n",
    "        \"\"\"\n",
    "        Visualize in the console or graphically the current state\n",
    "        \"\"\"\n",
    "        pass"
   ]
  },
  {
   "cell_type": "markdown",
   "metadata": {},
   "source": [
    "The method ```act``` allows to act on the environment at a given state $s_t$ (stored internally), via action $a_t$. The method will return the new state $s_{t+1}$, the reward $r(s_{t},a_{t})$ and determines if $t\\leq T$ (*game_over*).\n",
    "\n",
    "The method ```reset``` simply reinitializes the environment to a random state $s_0$.\n",
    "\n",
    "The method ```draw``` displays the current state $s_t$ (this is useful to check the behavior of the Agent).\n",
    "\n",
    "We modelize $s_t$ as a tensor, while $a_t$ is an integer."
   ]
  },
  {
   "cell_type": "markdown",
   "metadata": {},
   "source": [
    "### The Agent"
   ]
  },
  {
   "cell_type": "markdown",
   "metadata": {},
   "source": [
    "The goal of the ```Agent``` is to interact with the ```Environment``` by proposing actions $a_t$ obtained from a given state $s_t$ to attempt to maximize its __reward__ $r(s_t,a_t)$. We propose the following abstract class:"
   ]
  },
  {
   "cell_type": "code",
   "execution_count": 18,
   "metadata": {},
   "outputs": [],
   "source": [
    "class Agent(object):\n",
    "    def __init__(self, epsilon=0.1, n_action=4):\n",
    "        self.epsilon = epsilon\n",
    "        self.n_action = n_action\n",
    "    \n",
    "    def set_epsilon(self,e):\n",
    "        self.epsilon = e\n",
    "\n",
    "    def act(self,s,train=True):\n",
    "        \"\"\" This function should return the next action to do:\n",
    "        an integer between 0 and 4 (not included) with a random exploration of epsilon\"\"\"\n",
    "        if train:\n",
    "            if np.random.rand() <= self.epsilon:\n",
    "                a = np.random.randint(0, self.n_action, size=1)[0]\n",
    "            else:\n",
    "                a = self.learned_act(s)\n",
    "        else: # in some cases, this can improve the performance.. remove it if poor performances\n",
    "            a = self.learned_act(s)\n",
    "\n",
    "        return a\n",
    "\n",
    "    def learned_act(self,s):\n",
    "        \"\"\" Act via the policy of the agent, from a given state s\n",
    "        it proposes an action a\"\"\"\n",
    "        pass\n",
    "\n",
    "    def reinforce(self, s, n_s, a, r, game_over_):\n",
    "        \"\"\" This function is the core of the learning algorithm. \n",
    "        It takes as an input the current state s_, the next state n_s_\n",
    "        the action a_ used to move from s_ to n_s_ and the reward r_.\n",
    "        \n",
    "        Its goal is to learn a policy.\n",
    "        \"\"\"\n",
    "        pass\n",
    "\n",
    "    def save(self):\n",
    "        \"\"\" This function returns basic stats if applicable: the\n",
    "        loss and/or the model\"\"\"\n",
    "        pass\n",
    "\n",
    "    def load(self):\n",
    "        \"\"\" This function allows to restore a model\"\"\"\n",
    "        pass"
   ]
  },
  {
   "cell_type": "markdown",
   "metadata": {},
   "source": [
    "***\n",
    "__Question 1__:\n",
    "Explain the function act. Why is ```epsilon``` essential?"
   ]
  },
  {
   "cell_type": "markdown",
   "metadata": {},
   "source": [
    "This function returns what action the agent will do given the current state $s_t$ and it will depend on all the previous cumulated knowledge.\n",
    "\n",
    "Actions in this case will be too biased by the past during the training process. In order to avoid this, it is necessary to add an exploration criteria that guides the agent to act randomly and not act based only on what it has learned. Epsilon is then essential and allows to control this exploration. This parameter should be set carrefully in order to get a good performance. if it is equal to 0, then the agent will act based on what it has learned only. In the other hand, if it is equal to 1, then the agent will act randomly in each time step.\n",
    "\n",
    "A pure exploitation strategy can be used in the act function in the test phase when the agent is already trained and thus it needs no exploration. In this case epsilon=0 ( train=False in the act function)."
   ]
  },
  {
   "cell_type": "markdown",
   "metadata": {},
   "source": [
    "***\n",
    "### The Game"
   ]
  },
  {
   "cell_type": "markdown",
   "metadata": {},
   "source": [
    "The ```Agent``` and the ```Environment``` work in an interlaced way as in the following (take some time to understand this code as it is the core of the project)\n",
    "\n",
    "```python\n",
    "\n",
    "epoch = 300\n",
    "env = Environment()\n",
    "agent = Agent()\n",
    "\n",
    "\n",
    "# Number of won games\n",
    "score = 0\n",
    "loss = 0\n",
    "\n",
    "\n",
    "for e in range(epoch):\n",
    "    # At each epoch, we restart to a fresh game and get the initial state\n",
    "    state = env.reset()\n",
    "    # This assumes that the games will end\n",
    "    game_over = False\n",
    "\n",
    "    win = 0\n",
    "    lose = 0\n",
    "    \n",
    "    while not game_over:\n",
    "        # The agent performs an action\n",
    "        action = agent.act(state)\n",
    "\n",
    "        # Apply an action to the environment, get the next state, the reward\n",
    "        # and if the games end\n",
    "        prev_state = state\n",
    "        state, reward, game_over = env.act(action)\n",
    "\n",
    "        # Update the counters\n",
    "        if reward > 0:\n",
    "            win = win + reward\n",
    "        if reward < 0:\n",
    "            lose = lose -reward\n",
    "\n",
    "        # Apply the reinforcement strategy\n",
    "        loss = agent.reinforce(prev_state, state,  action, reward, game_over)\n",
    "\n",
    "    # Save as a mp4\n",
    "    if e % 10 == 0:\n",
    "        env.draw(e)\n",
    "\n",
    "    # Update stats\n",
    "    score += win-lose\n",
    "\n",
    "    print(\"Epoch {:03d}/{:03d} | Loss {:.4f} | Win/lose count {}/{} ({})\"\n",
    "          .format(e, epoch, loss, win, lose, win-lose))\n",
    "    agent.save()\n",
    "```"
   ]
  },
  {
   "cell_type": "markdown",
   "metadata": {},
   "source": [
    "# The game, *eat cheese*"
   ]
  },
  {
   "cell_type": "markdown",
   "metadata": {},
   "source": [
    "A rat runs on an island and tries to eat as much as possible. The island is subdivided into $N\\times N$ cells, in which there are cheese (+0.5) and poisonous cells (-1). The rat has a visibility of 2 cells (thus it can see $5^2$ cells). The rat is given a time $T$ to accumulate as much food as possible. It can perform 4 actions: going up, down, left, right. \n",
    "\n",
    "The goal is to code an agent to solve this task that will learn by trial and error. We propose the following environment:"
   ]
  },
  {
   "cell_type": "code",
   "execution_count": 19,
   "metadata": {},
   "outputs": [],
   "source": [
    "class Environment(object):\n",
    "    def __init__(self, grid_size=10, max_time=500, temperature=0.1):\n",
    "        grid_size = grid_size+4\n",
    "        self.grid_size = grid_size\n",
    "        self.max_time = max_time\n",
    "        self.temperature = temperature\n",
    "\n",
    "        #board on which one plays\n",
    "        self.board = np.zeros((grid_size,grid_size))\n",
    "        self.position = np.zeros((grid_size,grid_size))\n",
    "\n",
    "        # coordinate of the cat\n",
    "        self.x = 0\n",
    "        self.y = 1\n",
    "\n",
    "        # self time\n",
    "        self.t = 0\n",
    "\n",
    "        self.scale=16\n",
    "\n",
    "        self.to_draw = np.zeros((max_time+2, grid_size*self.scale, grid_size*self.scale, 3))\n",
    "\n",
    "\n",
    "    def draw(self,e):\n",
    "        skvideo.io.vwrite(str(e) + '.mp4', self.to_draw)\n",
    "\n",
    "    def get_frame(self,t):\n",
    "        b = np.zeros((self.grid_size,self.grid_size,3))+128\n",
    "        b[self.board>0,0] = 256\n",
    "        b[self.board < 0, 2] = 256\n",
    "        b[self.x,self.y,:]=256\n",
    "        b[-2:,:,:]=0\n",
    "        b[:,-2:,:]=0\n",
    "        b[:2,:,:]=0\n",
    "        b[:,:2,:]=0\n",
    "        \n",
    "        b =  cv2.resize(b, None, fx=self.scale, fy=self.scale, interpolation=cv2.INTER_NEAREST)\n",
    "\n",
    "        self.to_draw[t,:,:,:]=b\n",
    "\n",
    "\n",
    "    def act(self, action):\n",
    "        \"\"\"This function returns the new state, reward and decides if the\n",
    "        game ends.\"\"\"\n",
    "\n",
    "        self.get_frame(int(self.t))\n",
    "\n",
    "        self.position = np.zeros((self.grid_size, self.grid_size))\n",
    "\n",
    "        self.position[0:2,:]= -1\n",
    "        self.position[:,0:2] = -1\n",
    "        self.position[-2:, :] = -1\n",
    "        self.position[-2:, :] = -1\n",
    "\n",
    "        self.position[self.x, self.y] = 1\n",
    "        if action == 0:\n",
    "            if self.x == self.grid_size-3:\n",
    "                self.x = self.x-1\n",
    "            else:\n",
    "                self.x = self.x + 1\n",
    "        elif action == 1:\n",
    "            if self.x == 2:\n",
    "                self.x = self.x+1\n",
    "            else:\n",
    "                self.x = self.x-1\n",
    "        elif action == 2:\n",
    "            if self.y == self.grid_size - 3:\n",
    "                self.y = self.y - 1\n",
    "            else:\n",
    "                self.y = self.y + 1\n",
    "        elif action == 3:\n",
    "            if self.y == 2:\n",
    "                self.y = self.y + 1\n",
    "            else:\n",
    "                self.y = self.y - 1\n",
    "        else:\n",
    "            RuntimeError('Error: action not recognized')\n",
    "\n",
    "        self.t = self.t + 1\n",
    "        reward = self.board[self.x, self.y]\n",
    "        self.board[self.x, self.y] = 0\n",
    "        game_over = self.t > self.max_time\n",
    "        state = np.concatenate((self.board.reshape(self.grid_size, self.grid_size,1),\n",
    "                        self.position.reshape(self.grid_size, self.grid_size,1)),axis=2)\n",
    "        state = state[self.x-2:self.x+3,self.y-2:self.y+3,:]\n",
    "\n",
    "        return state, reward, game_over\n",
    "\n",
    "    def reset(self):\n",
    "        \"\"\"This function resets the game and returns the initial state\"\"\"\n",
    "\n",
    "        self.x = np.random.randint(3, self.grid_size-3, size=1)[0]\n",
    "        self.y = np.random.randint(3, self.grid_size-3, size=1)[0]\n",
    "\n",
    "\n",
    "        bonus = 0.5*np.random.binomial(1,self.temperature,size=self.grid_size**2)\n",
    "        bonus = bonus.reshape(self.grid_size,self.grid_size)\n",
    "\n",
    "        malus = -1.0*np.random.binomial(1,self.temperature,size=self.grid_size**2)\n",
    "        malus = malus.reshape(self.grid_size, self.grid_size)\n",
    "\n",
    "        self.to_draw = np.zeros((self.max_time+2, self.grid_size*self.scale, self.grid_size*self.scale, 3))\n",
    "\n",
    "\n",
    "        malus[bonus>0]=0\n",
    "\n",
    "        self.board = bonus + malus\n",
    "\n",
    "        self.position = np.zeros((self.grid_size, self.grid_size))\n",
    "        self.position[0:2,:]= -1\n",
    "        self.position[:,0:2] = -1\n",
    "        self.position[-2:, :] = -1\n",
    "        self.position[-2:, :] = -1\n",
    "        self.board[self.x,self.y] = 0\n",
    "        self.t = 0\n",
    "\n",
    "        state = np.concatenate((\n",
    "                               self.board.reshape(self.grid_size, self.grid_size,1),\n",
    "                        self.position.reshape(self.grid_size, self.grid_size,1)),axis=2)\n",
    "\n",
    "        state = state[self.x - 2:self.x + 3, self.y - 2:self.y + 3, :]\n",
    "        return state"
   ]
  },
  {
   "cell_type": "markdown",
   "metadata": {},
   "source": [
    "The following elements are important because they correspond to the hyper parameters for this project:"
   ]
  },
  {
   "cell_type": "code",
   "execution_count": 67,
   "metadata": {},
   "outputs": [],
   "source": [
    "# parameters\n",
    "size = 13\n",
    "T=200\n",
    "temperature=0.3\n",
    "epochs_train=50 # set small when debugging\n",
    "epochs_test=12 # set small when debugging\n",
    "\n",
    "# display videos\n",
    "def display_videos(name):\n",
    "    video = io.open(name, 'r+b').read()\n",
    "    encoded = base64.b64encode(video)\n",
    "    return '''<video alt=\"test\" controls>\n",
    "                <source src=\"data:video/mp4;base64,{0}\" type=\"video/mp4\" />\n",
    "             </video>'''.format(encoded.decode('ascii'))"
   ]
  },
  {
   "cell_type": "markdown",
   "metadata": {},
   "source": [
    "__Question 2__ Explain the use of the arrays ```position``` and ```board```."
   ]
  },
  {
   "cell_type": "markdown",
   "metadata": {},
   "source": [
    "- The array position contains informamations about where the rat can go: it contains ___0___ where the rat can actually go, ___1___ in the position where the rat is and finally __-1__ in the boundaries where it can't go.\n",
    "\n",
    "- The array board contain the rewards associated to each celle (x,y) that the rat can get if it come to this cell. Each cell of this array can be a bonus ( reward=+0.5) with a probability temperature,a malus(reward=-1) with probaility temperature or 0(without reward)."
   ]
  },
  {
   "cell_type": "markdown",
   "metadata": {},
   "source": [
    "## Random Agent"
   ]
  },
  {
   "cell_type": "markdown",
   "metadata": {},
   "source": [
    "***\n",
    "__Question 3__ Implement a random Agent (only ```learned_act``` needs to be implemented):"
   ]
  },
  {
   "cell_type": "code",
   "execution_count": 68,
   "metadata": {},
   "outputs": [],
   "source": [
    "class RandomAgent(Agent):\n",
    "    def __init__(self):\n",
    "        super(RandomAgent, self).__init__()\n",
    "        pass\n",
    "\n",
    "    def learned_act(self, s):\n",
    "        return np.random.randint(0, self.n_action, size=1)[0]"
   ]
  },
  {
   "cell_type": "markdown",
   "metadata": {},
   "source": [
    "***\n",
    "***\n",
    "__Question 4__ Visualize the game moves. You need to fill in the following function for the evaluation:"
   ]
  },
  {
   "cell_type": "code",
   "execution_count": 69,
   "metadata": {},
   "outputs": [],
   "source": [
    "def test(agent,env,epochs,prefix=''):\n",
    "    # Number of won games\n",
    "    score = 0\n",
    "        \n",
    "    for e in range(epochs):\n",
    "        \n",
    "        state = env.reset()\n",
    "        # This assumes that the games will end\n",
    "        game_over = False\n",
    "\n",
    "        win = 0\n",
    "        lose = 0\n",
    "        \n",
    "        while not game_over:\n",
    "            \n",
    "            # The agent performs an action\n",
    "            action = agent.act(state)\n",
    "\n",
    "            # Apply an action to the environment, get the next state, the reward\n",
    "            # and if the games end\n",
    "            prev_state = state\n",
    "            state, reward, game_over = env.act(action)\n",
    "\n",
    "            # Update the counters\n",
    "            if reward > 0:\n",
    "                win = win + reward\n",
    "            if reward < 0:\n",
    "                lose = lose -reward\n",
    "        \n",
    "        # Save as a mp4\n",
    "        env.draw(prefix+str(e))\n",
    "\n",
    "        # Update stats\n",
    "        score = score + win-lose\n",
    "\n",
    "        print(\"Win/lose count {}/{}. Average score ({})\"\n",
    "              .format(win, lose, score/(1+e)))\n",
    "    print('Final score: '+str(score/epochs))"
   ]
  },
  {
   "cell_type": "code",
   "execution_count": 70,
   "metadata": {},
   "outputs": [
    {
     "name": "stdout",
     "output_type": "stream",
     "text": [
      "Win/lose count 11.0/17.0. Average score (-6.0)\n",
      "Win/lose count 12.0/18.0. Average score (-6.0)\n",
      "Win/lose count 15.0/13.0. Average score (-3.3333333333333335)\n",
      "Win/lose count 12.5/11.0. Average score (-2.125)\n",
      "Win/lose count 11.5/20.0. Average score (-3.4)\n",
      "Win/lose count 9.0/13.0. Average score (-3.5)\n",
      "Win/lose count 9.5/13.0. Average score (-3.5)\n",
      "Win/lose count 5.0/13.0. Average score (-4.0625)\n",
      "Win/lose count 13.0/17.0. Average score (-4.055555555555555)\n",
      "Win/lose count 9.5/18.0. Average score (-4.5)\n",
      "Win/lose count 11.5/16.0. Average score (-4.5)\n",
      "Win/lose count 9.5/13.0. Average score (-4.416666666666667)\n",
      "Final score: -4.416666666666667\n"
     ]
    },
    {
     "data": {
      "text/html": [
       "<video alt=\"test\" controls>\n",
       "                <source src=\"data:video/mp4;base64,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\" type=\"video/mp4\" />\n",
       "             </video>"
      ],
      "text/plain": [
       "<IPython.core.display.HTML object>"
      ]
     },
     "execution_count": 70,
     "metadata": {},
     "output_type": "execute_result"
    }
   ],
   "source": [
    "# Initialize the game\n",
    "env = Environment(grid_size=size, max_time=T,temperature=temperature)\n",
    "\n",
    "# Initialize the agent!\n",
    "agent = RandomAgent()\n",
    "\n",
    "test(agent,env,epochs_test,prefix='random')\n",
    "HTML(display_videos('random0.mp4'))"
   ]
  },
  {
   "cell_type": "markdown",
   "metadata": {},
   "source": [
    "***\n",
    "## DQN"
   ]
  },
  {
   "cell_type": "markdown",
   "metadata": {},
   "source": [
    "Let us assume here that $T=\\infty$.\n",
    "\n",
    "***\n",
    "__Question 5__ Let $\\pi$ be a policy, show that:\n",
    "\n",
    "\\begin{equation*}\n",
    "Q^{\\pi}(s,a)=E_{(s',a')\\sim p(.|s,a)}[r(s,a)+\\gamma Q^{\\pi}(s',a')]\n",
    "\\end{equation*}\n",
    "\n",
    "Then, show that for the optimal policy $\\pi^*$ (we assume its existence), the following holds: \n",
    "\n",
    "\\begin{equation*}\n",
    "Q^{*}(s,a)=E_{s'\\sim \\pi^*(.|s,a)}[r(s,a)+\\gamma\\max_{a'}Q^{*}(s',a')].\n",
    "\\end{equation*}\n",
    "Finally, deduce that a plausible objective is:\n",
    "\n",
    "\\begin{equation*}\n",
    "\\mathcal{L}(\\theta)=E_{s' \\sim \\pi^*(.|s,a)}\\Vert r+\\gamma\\max\\max_{a'}Q(s',a',\\theta)-Q(s,a,\\theta)\\Vert^{2}.\n",
    "\\end{equation*}\n",
    "\n",
    "\n"
   ]
  },
  {
   "cell_type": "markdown",
   "metadata": {},
   "source": [
    "__Question 5.1__\n",
    "\n",
    "We have by definition : \n",
    "\n",
    "\\begin{align*}\n",
    "Q^{\\pi}(s,a)&=E_{\\pi}[\\sum_{0\\leq t}\\gamma^tr(s_t,a_t)\\vert s_0=s,a_0=a] \\\\\n",
    "&= E_\\pi[r(s,a)] +  E_{\\pi}[ \\gamma \\sum_{0\\leq t}\\gamma^tr(s_{t+1},a_{t+1})\\vert s_0=s,a_0=a] \\\\\n",
    "&= r(s,a) + \\sum_{(a',s')} \\gamma E_{\\pi}[  \\sum_{0\\leq t}\\gamma^tr(s_{t+1},a_{t+1})\\vert s_0=s,a_0=a,s_1=s',a_1=a'] p(s_1=s',a_1=a'|s_0=s,a_0=a) \\\\\n",
    "&= r(s,a) + \\sum_{(a',s')} \\gamma E_{\\pi}[  \\sum_{0\\leq t}\\gamma^tr(s_{t+1},a_{t+1})\\vert s_1=s',a_1=a'] p(s_1=s',a_1=a'|s_0=s,a_0=a)  \\\\\n",
    "&= r(s,a) + \\sum_{(a',s')}p(s_1=s',a_1=a'|s_0=s,a_0=a)  \\gamma Q^{\\pi}(s',a') \\\\\n",
    "&= E_{(s',a')\\sim p(.|s,a)}[r(s,a)+\\gamma Q^{\\pi}(s',a')] \\\\ \n",
    "\\end{align*}\n",
    "\n",
    "__Question 5.2__\n",
    "\n",
    "\\begin{align*}\n",
    "    Q^*(s,a)\n",
    "    &= \\max_{\\pi}Q^\\pi(s,a) \\\\\n",
    "    &=  \\max_{\\pi} E_{(s',a')\\sim p(.|s,a)}[r(s,a)+\\gamma Q^{\\pi}(s',a')] \\\\ \n",
    "    &=  r(s,a) +  \\max_{\\pi} \\sum_{(a',s')} p(s_1=s', a_1=a' |s_{0}=s,a_{0}=a) \\gamma Q^{\\pi}(s',a') \\\\   \n",
    "    &=  r(s,a) +  \\max_{\\pi} \\sum_{(a',s')}  p(s_1=s'|s_{0}=s,a_{0}=a) \\pi(a' | s') \\gamma Q^{\\pi}(s',a') \\\\ \n",
    "    &=  r(s,a) +   \\sum_{(a',s')} p(s_1=s'|s_{0}=s,a_{0}=a)   \\max_{\\pi} \\pi(a' | s') \\gamma Q^{\\pi}(s',a') \\\\ \n",
    "    &=  r(s,a) +   \\sum_{(a',s')}  p(s_1=s'|s_{0}=s,a_{0}=a)  \\gamma \\max_{a'} Q^{*}(s',a') \\\\ \n",
    "    &= E_{s'\\sim \\pi^*(.|s,a)}[r(s,a)+\\gamma\\max_{a'}Q^{*}(s',a')] \\\\\n",
    "\\end{align*}\n",
    "\n",
    "__Question 5.3__\n",
    "\n",
    "The role of the loss function is to measure how far our prediction is from actual target. In this case we want to minimize the gap between our model prediction $Q(s,a,\\theta)$ and the target $E_{s'\\sim \\pi^*(.|s,a)}[r(s,a)+\\gamma\\max_{a'}Q^{*}(s',a')]$ . Thus, a plausible objective that we have to minimize here is the loss:\n",
    "\n",
    "\\begin{equation*}\n",
    "\\mathcal{L}(\\theta)=E_{s' \\sim \\pi^*(.|s,a)}\\Vert r+\\gamma\\max\\max_{a'}Q(s',a',\\theta)-Q(s,a,\\theta)\\Vert^{2}.\n",
    "\\end{equation*} \n",
    "\n",
    "Using this loss function we try to enforce our learned Q-value to verify the Bellman equation\n"
   ]
  },
  {
   "cell_type": "markdown",
   "metadata": {},
   "source": [
    "***\n",
    "The DQN-learning algorithm relies on these derivations to train the parameters $\\theta$ of a Deep Neural Network:\n",
    "\n",
    "1. At the state $s_t$, select the action $a_t$ with best reward using $Q_t$ and store the results;\n",
    "\n",
    "2. Obtain the new state $s_{t+1}$ from the environment $p$;\n",
    "\n",
    "3. Store $(s_t,a_t,s_{t+1})$;\n",
    "\n",
    "4. Obtain $Q_{t+1}$ by minimizing  $\\mathcal{L}$ from a recovered batch from the previously stored results.\n",
    "\n",
    "***\n",
    "__Question 6__ Implement the class ```Memory``` that stores moves (in a replay buffer) via ```remember``` and provides a ```random_access``` to these. Specify a maximum memory size to avoid side effects. You can for example use a ```list()``` and set by default ```max_memory=100```."
   ]
  },
  {
   "cell_type": "code",
   "execution_count": 71,
   "metadata": {},
   "outputs": [],
   "source": [
    "class Memory(object):\n",
    "    def __init__(self, max_memory=100):\n",
    "        self.max_memory = max_memory\n",
    "        self.memory = list()\n",
    "\n",
    "    def remember(self, m):\n",
    "        self.memory.append(m)\n",
    "        if len(self.memory)>self.max_memory:\n",
    "            del self.memory[0]\n",
    "            \n",
    "\n",
    "    def random_access(self):\n",
    "        element=np.random.randint(0, len(self.memory), size=1)[0]\n",
    "        return self.memory[element]"
   ]
  },
  {
   "cell_type": "markdown",
   "metadata": {},
   "source": [
    "***\n",
    "The pipeline we will use for training is given below:"
   ]
  },
  {
   "cell_type": "code",
   "execution_count": 72,
   "metadata": {},
   "outputs": [],
   "source": [
    "def train(agent,env,epoch,prefix=''):\n",
    "    # Number of won games\n",
    "    score = 0\n",
    "    loss = 0\n",
    "\n",
    "    for e in range(epoch):\n",
    "        # At each epoch, we restart to a fresh game and get the initial state\n",
    "        state = env.reset()\n",
    "        # This assumes that the games will terminate\n",
    "        game_over = False\n",
    "\n",
    "        win = 0\n",
    "        lose = 0\n",
    "\n",
    "        while not game_over:\n",
    "            # The agent performs an action\n",
    "            action = agent.act(state)\n",
    "\n",
    "            # Apply an action to the environment, get the next state, the reward\n",
    "            # and if the games end\n",
    "            prev_state = state\n",
    "            state, reward, game_over = env.act(action)\n",
    "\n",
    "            # Update the counters\n",
    "            if reward > 0:\n",
    "                win = win + reward\n",
    "            if reward < 0:\n",
    "                lose = lose -reward\n",
    "\n",
    "            # Apply the reinforcement strategy\n",
    "            loss = agent.reinforce(prev_state, state,  action, reward, game_over)\n",
    "\n",
    "        # Save as a mp4\n",
    "        if e % 10 == 0:\n",
    "            env.draw(prefix+str(e))\n",
    "\n",
    "        # Update stats\n",
    "        score += win-lose\n",
    "\n",
    "        print(\"Epoch {:03d}/{:03d} | Loss {:.4f} | Win/lose count {}/{} ({})\"\n",
    "              .format(e, epoch, loss, win, lose, win-lose))\n",
    "        agent.save(name_weights=prefix+'model.h5',name_model=prefix+'model.json')"
   ]
  },
  {
   "cell_type": "markdown",
   "metadata": {},
   "source": [
    "***\n",
    "__Question 7__ Implement the DQN training algorithm using a cascade of fully connected layers. You can use different learning rate, batch size or memory size parameters. In particular, the loss might oscillate while the player will start to win the games. You have to find a good criterium."
   ]
  },
  {
   "cell_type": "code",
   "execution_count": 73,
   "metadata": {},
   "outputs": [],
   "source": [
    "class DQN(Agent):\n",
    "    def __init__(self, grid_size,  epsilon = 0.1, memory_size=100, batch_size = 16,n_state=2):\n",
    "        super(DQN, self).__init__(epsilon = epsilon)\n",
    "\n",
    "        # Discount for Q learning\n",
    "        self.discount = 0.99\n",
    "        \n",
    "        self.grid_size = grid_size\n",
    "        \n",
    "        # number of state\n",
    "        self.n_state = n_state\n",
    "\n",
    "        # Memory\n",
    "        self.memory = Memory(memory_size)\n",
    "        \n",
    "        # Batch size when learning\n",
    "        self.batch_size = batch_size\n",
    "\n",
    "    def learned_act(self, s):\n",
    "        S_reshaped=s.reshape([1,s.shape[0],s.shape[1],s.shape[2]])\n",
    "        act= np.argmax(self.model.predict(S_reshaped)[0,:])\n",
    "        return act\n",
    "\n",
    "    def reinforce(self, s_, n_s_, a_, r_, game_over_):\n",
    "        # Two steps: first memorize the states, second learn from the pool\n",
    "\n",
    "        self.memory.remember([s_, n_s_, a_, r_, game_over_])\n",
    "        input_states = np.zeros((self.batch_size, 5,5,self.n_state))\n",
    "        target_q = np.zeros((self.batch_size, 4))\n",
    "        \n",
    "        for i in range(self.batch_size):\n",
    "            \n",
    "            # Initializing parameters\n",
    "            s_, n_s_, a_, r_, game_over_  = self.memory.random_access()\n",
    "            \n",
    "            S__reshaped=s_.reshape([1,s_.shape[0],s_.shape[1],s_.shape[2]])\n",
    "            target_q[i] =self.model.predict(S__reshaped)[0]\n",
    "            \n",
    "            if game_over_:\n",
    "                target_q[i,a_] = r_\n",
    "                input_states[i] = s_\n",
    "                \n",
    "            else:  \n",
    "                n_s_reshaped=n_s_.reshape([1,s_.shape[0],s_.shape[1],s_.shape[2]])\n",
    "                target_q[i,a_] = r_  + self.discount*max(self.model.predict(n_s_reshaped)[0])\n",
    "                input_states[i] = s_\n",
    "        # HINT: Clip the target to avoid exploiding gradients.. -- clipping is a bit tighter\n",
    "        target_q = np.clip(target_q, -3, 3)\n",
    "\n",
    "        l = self.model.train_on_batch(input_states, target_q)\n",
    "\n",
    "\n",
    "        return l\n",
    "\n",
    "    def save(self,name_weights='model.h5',name_model='model.json'):\n",
    "        self.model.save_weights(name_weights, overwrite=True)\n",
    "        with open(name_model, \"w\") as outfile:\n",
    "            json.dump(self.model.to_json(), outfile)\n",
    "            \n",
    "    def load(self,name_weights='model.h5',name_model='model.json'):\n",
    "        with open(name_model, \"r\") as jfile:\n",
    "            model = model_from_json(json.load(jfile))\n",
    "        model.load_weights(name_weights)\n",
    "        model.compile(\"sgd\", \"mse\")\n",
    "        self.model = model\n",
    "\n",
    "            \n",
    "class DQN_FC(DQN):\n",
    "    def __init__(self, *args, lr=0.1,**kwargs):\n",
    "        super(DQN_FC, self).__init__( *args,**kwargs)\n",
    "        \n",
    "        # NN Model\n",
    "        model=Sequential()\n",
    "        model.add(Flatten(input_shape=(5,5,self.n_state,)))\n",
    "        model.add(Dense(32,activation='relu'))\n",
    "        model.add(Dense(4))\n",
    "        \n",
    "        model.compile(sgd(lr=lr, decay=1e-4, momentum=0.0), \"mse\")\n",
    "        self.model = model\n",
    "        "
   ]
  },
  {
   "cell_type": "code",
   "execution_count": 74,
   "metadata": {
    "scrolled": true
   },
   "outputs": [
    {
     "name": "stdout",
     "output_type": "stream",
     "text": [
      "Epoch 000/050 | Loss 0.0225 | Win/lose count 8.0/8.0 (0.0)\n",
      "Epoch 001/050 | Loss 0.0130 | Win/lose count 7.0/8.0 (-1.0)\n",
      "Epoch 002/050 | Loss 0.0219 | Win/lose count 5.5/4.0 (1.5)\n",
      "Epoch 003/050 | Loss 0.0180 | Win/lose count 6.0/4.0 (2.0)\n",
      "Epoch 004/050 | Loss 0.0107 | Win/lose count 2.0/5.0 (-3.0)\n",
      "Epoch 005/050 | Loss 0.0129 | Win/lose count 1.0/6.0 (-5.0)\n",
      "Epoch 006/050 | Loss 0.0488 | Win/lose count 2.5/3.0 (-0.5)\n",
      "Epoch 007/050 | Loss 0.0048 | Win/lose count 5.0/3.0 (2.0)\n",
      "Epoch 008/050 | Loss 0.0044 | Win/lose count 4.0/3.0 (1.0)\n",
      "Epoch 009/050 | Loss 0.0482 | Win/lose count 7.5/3.0 (4.5)\n",
      "Epoch 010/050 | Loss 0.0088 | Win/lose count 5.0/4.0 (1.0)\n",
      "Epoch 011/050 | Loss 0.0063 | Win/lose count 7.0/3.0 (4.0)\n",
      "Epoch 012/050 | Loss 0.0056 | Win/lose count 6.0/3.0 (3.0)\n",
      "Epoch 013/050 | Loss 0.0034 | Win/lose count 4.0/3.0 (1.0)\n",
      "Epoch 014/050 | Loss 0.0045 | Win/lose count 3.0/1.0 (2.0)\n",
      "Epoch 015/050 | Loss 0.0035 | Win/lose count 6.5/4.0 (2.5)\n",
      "Epoch 016/050 | Loss 0.0076 | Win/lose count 2.5/1.0 (1.5)\n",
      "Epoch 017/050 | Loss 0.0031 | Win/lose count 2.0/2.0 (0.0)\n",
      "Epoch 018/050 | Loss 0.0049 | Win/lose count 2.5/1.0 (1.5)\n",
      "Epoch 019/050 | Loss 0.0043 | Win/lose count 6.0/6.0 (0.0)\n",
      "Epoch 020/050 | Loss 0.0030 | Win/lose count 9.5/2.0 (7.5)\n",
      "Epoch 021/050 | Loss 0.0545 | Win/lose count 6.5/2.0 (4.5)\n",
      "Epoch 022/050 | Loss 0.0086 | Win/lose count 4.0/2.0 (2.0)\n",
      "Epoch 023/050 | Loss 0.0044 | Win/lose count 5.0/4.0 (1.0)\n",
      "Epoch 024/050 | Loss 0.0047 | Win/lose count 8.5/3.0 (5.5)\n",
      "Epoch 025/050 | Loss 0.0447 | Win/lose count 7.0/7.0 (0.0)\n",
      "Epoch 026/050 | Loss 0.0037 | Win/lose count 4.5/4.0 (0.5)\n",
      "Epoch 027/050 | Loss 0.0025 | Win/lose count 10.0/7.0 (3.0)\n",
      "Epoch 028/050 | Loss 0.0073 | Win/lose count 5.0/3.0 (2.0)\n",
      "Epoch 029/050 | Loss 0.0107 | Win/lose count 3.5/4.0 (-0.5)\n",
      "Epoch 030/050 | Loss 0.0017 | Win/lose count 10.5/5.0 (5.5)\n",
      "Epoch 031/050 | Loss 0.0020 | Win/lose count 5.5/4.0 (1.5)\n",
      "Epoch 032/050 | Loss 0.0060 | Win/lose count 5.5/2.0 (3.5)\n",
      "Epoch 033/050 | Loss 0.0466 | Win/lose count 11.0/5.0 (6.0)\n",
      "Epoch 034/050 | Loss 0.0065 | Win/lose count 6.0/5.0 (1.0)\n",
      "Epoch 035/050 | Loss 0.0080 | Win/lose count 2.5/1.0 (1.5)\n",
      "Epoch 036/050 | Loss 0.0037 | Win/lose count 5.0/2.0 (3.0)\n",
      "Epoch 037/050 | Loss 0.0072 | Win/lose count 6.0/1.0 (5.0)\n",
      "Epoch 038/050 | Loss 0.0033 | Win/lose count 5.0/2.0 (3.0)\n",
      "Epoch 039/050 | Loss 0.0512 | Win/lose count 3.0/1.0 (2.0)\n",
      "Epoch 040/050 | Loss 0.0043 | Win/lose count 3.0/0 (3.0)\n",
      "Epoch 041/050 | Loss 0.0073 | Win/lose count 9.0/3.0 (6.0)\n",
      "Epoch 042/050 | Loss 0.0031 | Win/lose count 3.5/4.0 (-0.5)\n",
      "Epoch 043/050 | Loss 0.0014 | Win/lose count 1.0/0 (1.0)\n",
      "Epoch 044/050 | Loss 0.0028 | Win/lose count 1.0/2.0 (-1.0)\n",
      "Epoch 045/050 | Loss 0.0047 | Win/lose count 8.0/3.0 (5.0)\n",
      "Epoch 046/050 | Loss 0.0033 | Win/lose count 10.5/0 (10.5)\n",
      "Epoch 047/050 | Loss 0.0039 | Win/lose count 2.5/1.0 (1.5)\n",
      "Epoch 048/050 | Loss 0.0016 | Win/lose count 11.0/3.0 (8.0)\n",
      "Epoch 049/050 | Loss 0.0096 | Win/lose count 3.0/1.0 (2.0)\n"
     ]
    },
    {
     "data": {
      "text/html": [
       "<video alt=\"test\" controls>\n",
       "                <source src=\"data:video/mp4;base64,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\" type=\"video/mp4\" />\n",
       "             </video>"
      ],
      "text/plain": [
       "<IPython.core.display.HTML object>"
      ]
     },
     "execution_count": 74,
     "metadata": {},
     "output_type": "execute_result"
    }
   ],
   "source": [
    "env = Environment(grid_size=size, max_time=T, temperature=0.3)\n",
    "agent = DQN_FC(size, lr=.1, epsilon = 0.1, memory_size=2000, batch_size = 32)\n",
    "train(agent, env, epochs_train, prefix='fc_train')\n",
    "HTML(display_videos('fc_train10.mp4'))"
   ]
  },
  {
   "cell_type": "markdown",
   "metadata": {},
   "source": [
    "***\n",
    "***\n",
    "__Question 8__ Implement the DQN training algorithm using a CNN (for example, 2 convolutional layers and one final fully connected layer)."
   ]
  },
  {
   "cell_type": "code",
   "execution_count": 75,
   "metadata": {},
   "outputs": [],
   "source": [
    "class DQN_CNN(DQN):\n",
    "    def __init__(self, *args,lr=0.1,**kwargs):\n",
    "        super(DQN_CNN, self).__init__(*args,**kwargs)\n",
    "        nb_neurons=50\n",
    "        \n",
    "        model = Sequential()\n",
    "        model.add(Conv2D(nb_neurons,(2,2),input_shape=(5,5,self.n_state,),activation='relu'))\n",
    "        model.add(Conv2D(30,(2,2),activation='relu'))\n",
    "        model.add(Flatten())\n",
    "        model.add(Dense(4))\n",
    "        model.compile(sgd(lr=lr, decay=1e-4, momentum=0.0), \"mse\")\n",
    "        self.model = model"
   ]
  },
  {
   "cell_type": "code",
   "execution_count": 76,
   "metadata": {
    "scrolled": true
   },
   "outputs": [
    {
     "name": "stdout",
     "output_type": "stream",
     "text": [
      "Epoch 000/050 | Loss 0.0054 | Win/lose count 3.0/4.0 (-1.0)\n",
      "Epoch 001/050 | Loss 0.0059 | Win/lose count 2.0/2.0 (0.0)\n",
      "Epoch 002/050 | Loss 0.0098 | Win/lose count 5.0/8.0 (-3.0)\n",
      "Epoch 003/050 | Loss 0.0016 | Win/lose count 3.0/0 (3.0)\n",
      "Epoch 004/050 | Loss 0.0033 | Win/lose count 1.0/1.0 (0.0)\n",
      "Epoch 005/050 | Loss 0.0043 | Win/lose count 2.0/3.0 (-1.0)\n",
      "Epoch 006/050 | Loss 0.0144 | Win/lose count 4.5/4.0 (0.5)\n",
      "Epoch 007/050 | Loss 0.0014 | Win/lose count 2.5/0 (2.5)\n",
      "Epoch 008/050 | Loss 0.0416 | Win/lose count 3.5/1.0 (2.5)\n",
      "Epoch 009/050 | Loss 0.1109 | Win/lose count 6.0/3.0 (3.0)\n",
      "Epoch 010/050 | Loss 0.0070 | Win/lose count 5.0/0 (5.0)\n",
      "Epoch 011/050 | Loss 0.0543 | Win/lose count 9.0/2.0 (7.0)\n",
      "Epoch 012/050 | Loss 0.0015 | Win/lose count 3.0/2.0 (1.0)\n",
      "Epoch 013/050 | Loss 0.0025 | Win/lose count 8.0/2.0 (6.0)\n",
      "Epoch 014/050 | Loss 0.0033 | Win/lose count 8.0/1.0 (7.0)\n",
      "Epoch 015/050 | Loss 0.0038 | Win/lose count 8.0/2.0 (6.0)\n",
      "Epoch 016/050 | Loss 0.0026 | Win/lose count 4.0/3.0 (1.0)\n",
      "Epoch 017/050 | Loss 0.0008 | Win/lose count 12.5/4.0 (8.5)\n",
      "Epoch 018/050 | Loss 0.0031 | Win/lose count 11.5/2.0 (9.5)\n",
      "Epoch 019/050 | Loss 0.0571 | Win/lose count 8.0/6.0 (2.0)\n",
      "Epoch 020/050 | Loss 0.0540 | Win/lose count 14.0/3.0 (11.0)\n",
      "Epoch 021/050 | Loss 0.0041 | Win/lose count 16.0/3.0 (13.0)\n",
      "Epoch 022/050 | Loss 0.0011 | Win/lose count 11.0/5.0 (6.0)\n",
      "Epoch 023/050 | Loss 0.0047 | Win/lose count 20.5/2.0 (18.5)\n",
      "Epoch 024/050 | Loss 0.0082 | Win/lose count 16.5/1.0 (15.5)\n",
      "Epoch 025/050 | Loss 0.0032 | Win/lose count 12.0/2.0 (10.0)\n",
      "Epoch 026/050 | Loss 0.0016 | Win/lose count 20.0/2.0 (18.0)\n",
      "Epoch 027/050 | Loss 0.0015 | Win/lose count 8.5/4.0 (4.5)\n",
      "Epoch 028/050 | Loss 0.0037 | Win/lose count 18.5/1.0 (17.5)\n",
      "Epoch 029/050 | Loss 0.0019 | Win/lose count 14.0/6.0 (8.0)\n",
      "Epoch 030/050 | Loss 0.0021 | Win/lose count 10.0/5.0 (5.0)\n",
      "Epoch 031/050 | Loss 0.0501 | Win/lose count 15.0/2.0 (13.0)\n",
      "Epoch 032/050 | Loss 0.0033 | Win/lose count 9.0/0 (9.0)\n",
      "Epoch 033/050 | Loss 0.0030 | Win/lose count 10.0/4.0 (6.0)\n",
      "Epoch 034/050 | Loss 0.0053 | Win/lose count 6.5/0 (6.5)\n",
      "Epoch 035/050 | Loss 0.0552 | Win/lose count 8.5/2.0 (6.5)\n",
      "Epoch 036/050 | Loss 0.0494 | Win/lose count 7.5/0 (7.5)\n",
      "Epoch 037/050 | Loss 0.0477 | Win/lose count 7.0/0 (7.0)\n",
      "Epoch 038/050 | Loss 0.0013 | Win/lose count 18.0/1.0 (17.0)\n",
      "Epoch 039/050 | Loss 0.0012 | Win/lose count 19.5/2.0 (17.5)\n",
      "Epoch 040/050 | Loss 0.0031 | Win/lose count 9.0/5.0 (4.0)\n",
      "Epoch 041/050 | Loss 0.0022 | Win/lose count 10.0/2.0 (8.0)\n",
      "Epoch 042/050 | Loss 0.0024 | Win/lose count 9.0/2.0 (7.0)\n",
      "Epoch 043/050 | Loss 0.0016 | Win/lose count 7.0/0 (7.0)\n",
      "Epoch 044/050 | Loss 0.0579 | Win/lose count 15.0/2.0 (13.0)\n",
      "Epoch 045/050 | Loss 0.0016 | Win/lose count 22.0/2.0 (20.0)\n",
      "Epoch 046/050 | Loss 0.0021 | Win/lose count 7.5/2.0 (5.5)\n",
      "Epoch 047/050 | Loss 0.0025 | Win/lose count 8.0/1.0 (7.0)\n",
      "Epoch 048/050 | Loss 0.0028 | Win/lose count 6.0/3.0 (3.0)\n",
      "Epoch 049/050 | Loss 0.0019 | Win/lose count 18.0/1.0 (17.0)\n"
     ]
    },
    {
     "data": {
      "text/html": [
       "<video alt=\"test\" controls>\n",
       "                <source src=\"data:video/mp4;base64,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\" type=\"video/mp4\" />\n",
       "             </video>"
      ],
      "text/plain": [
       "<IPython.core.display.HTML object>"
      ]
     },
     "execution_count": 76,
     "metadata": {},
     "output_type": "execute_result"
    }
   ],
   "source": [
    "env = Environment(grid_size=size, max_time=T, temperature=0.3)\n",
    "agent = DQN_CNN(size, lr=.1, epsilon = 0.1, memory_size=2000, batch_size = 32)\n",
    "train(agent,env,epochs_train,prefix='cnn_train')\n",
    "HTML(display_videos('cnn_train10.mp4'))"
   ]
  },
  {
   "cell_type": "markdown",
   "metadata": {},
   "source": [
    "***\n",
    "***\n",
    "__Question 9__ Test both algorithms and compare their performances. Which issue(s) do you observe? Observe also different behaviors by changing the temperature.\n",
    "\n",
    "\n",
    "I have performed several tests changing the temperature parameter. What we can see is that:\n",
    "\n",
    "- The CNN model largely outperforms the FCC model, this result can be seen in the training as well as in test scores. We have observed also that increasing the temperature increases the final reward and that The gap between the performances of the two medels is increasing with the temperature.\n",
    "- The learning process can encourage in many cases the agent to stay in a visited cell where the reward is equal to 0 instead of exploring neighbor malus cells. Besides, the rat can also get stuck in many cells situated next to the boarder, this is due to the lack of space exploration."
   ]
  },
  {
   "cell_type": "code",
   "execution_count": 78,
   "metadata": {},
   "outputs": [
    {
     "name": "stdout",
     "output_type": "stream",
     "text": [
      "Test of the CNN\n",
      "Win/lose count 16.0/1.0. Average score (15.0)\n",
      "Win/lose count 24.5/1.0. Average score (19.25)\n",
      "Win/lose count 30.5/5.0. Average score (21.333333333333332)\n",
      "Win/lose count 44.0/1.0. Average score (26.75)\n",
      "Win/lose count 27.0/4.0. Average score (26.0)\n",
      "Win/lose count 24.5/3.0. Average score (25.25)\n",
      "Win/lose count 33.0/1.0. Average score (26.214285714285715)\n",
      "Win/lose count 31.5/6.0. Average score (26.125)\n",
      "Win/lose count 27.0/2.0. Average score (26.0)\n",
      "Win/lose count 20.5/1.0. Average score (25.35)\n",
      "Win/lose count 16.0/3.0. Average score (24.227272727272727)\n",
      "Win/lose count 24.0/8.0. Average score (23.541666666666668)\n",
      "Final score: 23.541666666666668\n",
      "Test of the FC\n",
      "Win/lose count 4.5/3.0. Average score (1.5)\n",
      "Win/lose count 11.5/11.0. Average score (1.0)\n",
      "Win/lose count 6.0/5.0. Average score (1.0)\n",
      "Win/lose count 7.0/4.0. Average score (1.5)\n",
      "Win/lose count 8.0/7.0. Average score (1.4)\n",
      "Win/lose count 2.5/2.0. Average score (1.25)\n",
      "Win/lose count 9.5/4.0. Average score (1.8571428571428572)\n",
      "Win/lose count 19.5/8.0. Average score (3.0625)\n",
      "Win/lose count 6.5/3.0. Average score (3.111111111111111)\n",
      "Win/lose count 12.5/7.0. Average score (3.35)\n",
      "Win/lose count 11.0/6.0. Average score (3.5)\n",
      "Win/lose count 6.5/3.0. Average score (3.5)\n",
      "Final score: 3.5\n"
     ]
    }
   ],
   "source": [
    "env = Environment(grid_size=size, max_time=T,temperature=0.7)\n",
    "agent_cnn = DQN_CNN(size, lr=.1, epsilon = 0.1, memory_size=2000, batch_size = 32)\n",
    "agent_cnn.load(name_weights='cnn_trainmodel.h5',name_model='cnn_trainmodel.json')\n",
    "\n",
    "agent_fc = DQN_FC(size, lr=.1, epsilon = 0.1, memory_size=2000, batch_size = 32)\n",
    "agent_cnn.load(name_weights='fc_trainmodel.h5',name_model='fc_trainmodel.json')\n",
    "print('Test of the CNN')\n",
    "test(agent_cnn,env,epochs_test,prefix='cnn_test')\n",
    "print('Test of the FC')\n",
    "test(agent_fc,env,epochs_test,prefix='fc_test')"
   ]
  },
  {
   "cell_type": "code",
   "execution_count": 79,
   "metadata": {},
   "outputs": [
    {
     "data": {
      "text/html": [
       "<video alt=\"test\" controls>\n",
       "                <source src=\"data:video/mp4;base64,AAAAIGZ0eXBpc29tAAACAGlzb21pc28yYXZjMW1wNDEAAAAIZnJlZQAAFphtZGF0AAACnwYF//+b3EXpvebZSLeWLNgg2SPu73gyNjQgLSBjb3JlIDE1MiAtIEguMjY0L01QRUctNCBBVkMgY29kZWMgLSBDb3B5bGVmdCAyMDAzLTIwMTcgLSBodHRwOi8vd3d3LnZpZGVvbGFuLm9yZy94MjY0Lmh0bWwgLSBvcHRpb25zOiBjYWJhYz0xIHJlZj0zIGRlYmxvY2s9MTowOjAgYW5hbHlzZT0weDE6MHgxMTEgbWU9aGV4IHN1Ym1lPTcgcHN5PTEgcHN5X3JkPTEuMDA6MC4wMCBtaXhlZF9yZWY9MSBtZV9yYW5nZT0xNiBjaHJvbWFfbWU9MSB0cmVsbGlzPTEgOHg4ZGN0PTAgY3FtPTAgZGVhZHpvbmU9MjEsMTEgZmFzdF9wc2tpcD0xIGNocm9tYV9xcF9vZmZzZXQ9NCB0aHJlYWRzPTYgbG9va2FoZWFkX3RocmVhZHM9MSBzbGljZWRfdGhyZWFkcz0wIG5yPTAgZGVjaW1hdGU9MSBpbnRlcmxhY2VkPTAgYmx1cmF5X2NvbXBhdD0wIGNvbnN0cmFpbmVkX2ludHJhPTAgYmZyYW1lcz0zIGJfcHlyYW1pZD0yIGJfYWRhcHQ9MSBiX2JpYXM9MCBkaXJlY3Q9MSB3ZWlnaHRiPTEgb3Blbl9nb3A9MCB3ZWlnaHRwPTIga2V5aW50PTI1MCBrZXlpbnRfbWluPTI1IHNjZW5lY3V0PTQwIGludHJhX3JlZnJlc2g9MCByY19sb29rYWhlYWQ9NDAgcmM9Y3JmIG1idHJlZT0xIGNyZj0yMy4wIHFjb21wPTAuNjAgcXBtaW49MCBxcG1heD02OSBxcHN0ZXA9NCBpcF9yYXRpbz0xLjQwIGFxPTE6MS4wMACAAAACUWWIhAA3//72h/gU2VgT/lm//Q1/3I/bj6z9cWMhBN9aryHowBkvtR/m/6xRbOmelAf34AiUAHNuGcKScOL/wKS3VvgUy2E5FDe+Z4oVDCjqKFInPlU/xExGLTG99aRrfWh8Bm1BYGONuUYOTO5JfR3DXjEd6XkQxkaHkdqQVMAB6Embu1lCMHTQZJ116I021imDKjpznDcDexwILWlpop20b2M8BjVcU+DFmSRTnGNTGY0jHndeB3/niVeW6nmq13+cEzEvWMbIaGDX+3F1YkkWUJhrZN0jpMOYlGiTg6XBBfsbgLGvO3yyfKIrkxIWAx7BAtkk9kL/1wReUsrp85v8OYnXCTipIlqwn7M4rh0+bTDNMGQb2efmkJqgo60/wLMvZYBWsjfd4zE4AkPB2x5KQqjunGjoMu0Ad444rkYZdbfpPiAe5rK+gNW2q2o4tJAb0BuZwa58iaeCh6vZ9qiEGoZbHil4bMvPLAxZn0yx43/K1crcyN9TFAf42NpgRomlIdKFAUZcXmj/iCpugAo3EUjq2Imu5F0aCmRAQAasFhrcrxB5A9HTwl9jlPdGFlXqjTPgCWEmaiqmpgkPlpVzKGpW2iqrqSu7W40PgiFQSQECaVPJgM2CjUo+ZyrpaZgjUet14H3BDeHx8YxmCpvB9i3OXZBgAfMmz5U3i90MGCSVt45mUXpAZ2d8oAAFoMmqsx6E3/qDiKDhZHdHQJME54YxI1XSyn5g1ZqNqeeNxRpgmnVkYisAni3bOolbSV0I9oucNPuQByi5EMW0sAMfAAAAJEGaI2xDP/6eEBEu3Zy8yyYIa8yxLBfMsmwbvP3H9Bd0P3dVSQAAABBBnkF4hX8B7GlYxmbGCI+ZAAAADwGeYmpCvwHrtwYjSnwz4AAAABpBmmRJqEFomUwIb//+p4QFC0T/TktgfakVMQAAABhBmoVJ4QpSZTAhv/6nhAWMVpBEMflx0d0AAAAaQZqoSeEOiZTAhn/+nhAWK/V+hidqEnlBGBEAAAARQZ7GRRE8K/8CHs3NcZYH2YEAAAAOAZ7nakK/Ah5IZk27pBwAAAAZQZrpSahBaJlMCG///qeEBS+NP11RQkE1FwAAABpBmwxJ4QpSZTAhn/6eEAaHvASvdpzduxjugQAAAA9BnypFNEwr/wFIa3DWZUAAAAANAZ9LakK/AUjlIt6zKgAAABtBm01JqEFomUwIZ//+nhAQvxHPyxfEBTPymb0AAAAaQZtuSeEKUmUwIZ/+nhARLt1AUznW6BcJpF0AAAAXQZuPSeEOiZTAhv/+p4QElUcAx+ZHikkAAAAYQZuwSeEPJlMCG//+p4QFCFaQRDH5keKCAAAAGUGb0UnhDyZTAh3//qmWAqPJL7WyDcSKVMAAAAASQZv1SeEPJlMCHf/+qZYAAJWBAAAAEEGeE0URPC//AXBrrH8QBRMAAAAQAZ4ydEK/AexEu47FmJ8M+AAAABABnjRqQr8B+Zo3mmFNnVnBAAAAE0GaOUmoQWiZTAh3//6plgAAlYAAAAAQQZ5XRREsL/8BcIlsfrhJSQAAABABnnZ0Qr8B7ES7jsWYnwz5AAAAEAGeeGpCvwH5mjeaYU2dWcAAAAATQZp9SahBbJlMCHf//qmWAACVgQAAABBBnptFFSwv/wFwiWx+uElJAAAAEAGeunRCvwHsRLuOxZifDPkAAAAQAZ68akK/AfmaN5phTZ1ZwQAAABNBmqFJqEFsmUwId//+qZYAAJWAAAAAEEGe30UVLC//AXCJbH64SUkAAAAQAZ7+dEK/AexEu47FmJ8M+QAAABABnuBqQr8B+Zo3mmFNnVnAAAAAE0Ga5UmoQWyZTAh3//6plgAAlYEAAAAQQZ8DRRUsL/8BcIlsfrhJSQAAABABnyJ0Qr8B7ES7jsWYnwz5AAAAEAGfJGpCvwH5mjeaYU2dWcEAAAATQZspSahBbJlMCHf//qmWAACVgQAAABBBn0dFFSwv/wFwiWx+uElJAAAAEAGfZnRCvwHsRLuOxZifDPgAAAAQAZ9oakK/AfmaN5phTZ1ZwAAAABJBm21JqEFsmUwIb//+p4QAAScAAAAQQZ+LRRUsL/8BcIlsfrhJSQAAABABn6p0Qr8B7ES7jsWYnwz4AAAAEAGfrGpCvwH5mjeaYU2dWcEAAAASQZuxSahBbJlMCG///qeEAAEnAAAAEEGfz0UVLC//AXCJbH64SUkAAAAQAZ/udEK/AexEu47FmJ8M+AAAABABn/BqQr8B+Zo3mmFNnVnAAAAAGkGb8kmoQWyZTAhv//6nhAGy7qfpEFCQsoOBAAAAIUGaFEnhClJlMFFSw7/+qZYAgPx5/IvzA4d6WcoNxcZxoAAAAA8BnjNqQr8A0pLSpFAlUfMAAAAfQZo4SeEOiZTAhv/+p4QA/KeAwf0bwCa/qqC6p1fPLwAAABVBnlZFFTwv/wCa551FF9FjE8eRC2gAAAAQAZ51dEK/AMjJoRPizFGv8QAAABABnndqQr8A0rqnkuZ8kq+BAAAAHUGae0moQWiZTAhv//6nhAEEQCaJ/g9bgf+BArSAAAAAEUGemUURLCv/ANezc1xlg+1XAAAADgGeumpCvwDXkhmTckquAAAAJUGavUmoQWyZTBRMN//+p4QErki4+IQA//hKljz//vmf0VdGX+EAAAAQAZ7cakK/AewffLX9tny+YQAAABlBmt5J4QpSZTAh3/6plgJj2Y4WoJ9/CJuAAAAAG0Ga4UnhDomUwId//qmWAjHZjhagn36tvY4oIAAAABJBnx9FETwr/wHesyBcof5Sw8EAAAAOAZ8gakK/Ad9n0jwvlh4AAAAeQZslSahBaJlMCHf//qmWAgHZj7Xx5IS6ciB5S8d1AAAAEUGfQ0URLC//AVsPQ1UqVlVAAAAAEAGfYnRCvwHRfwGSW/1ssoEAAAAPAZ9kakK/AS55ogtR5dIPAAAAE0GbaUmoQWyZTAh3//6plgAAlYEAAAAMQZ+HRRUsL/8AALKBAAAAEAGfpnRCvwHGsVi8/gcjYMAAAAAPAZ+oakK/AS55ogtR5dIOAAAAE0GbrUmoQWyZTAh3//6plgAAlYEAAAAMQZ/LRRUsL/8AALKAAAAAEAGf6nRCvwHGsVi8/gcjYMAAAAAPAZ/sakK/AS55ogtR5dIPAAAAE0Gb8UmoQWyZTAh3//6plgAAlYEAAAAMQZ4PRRUsL/8AALKBAAAAEAGeLnRCvwHGsVi8/gcjYMAAAAAPAZ4wakK/AS55ogtR5dIOAAAAEkGaNUmoQWyZTAhv//6nhAABJwAAAAxBnlNFFSwv/wAAsoAAAAAQAZ5ydEK/AcaxWLz+ByNgwAAAAA8BnnRqQr8BLnmiC1Hl0g8AAAASQZp5SahBbJlMCGf//p4QAAR8AAAADEGel0UVLC//AACygQAAABABnrZ0Qr8BxrFYvP4HI2DBAAAADwGeuGpCvwEueaILUeXSDgAAABpBmrpJqEFsmUwIb//+p4QBdPRP7dBQkMqTgQAAAB1BmtxJ4QpSZTBRUsN//qeEAPGD7edZ093m7P8sKAAAABABnvtqQr8AyLqnkuZ8kriBAAAAGUGa/UnhDomUwIb//qeEAPcDwp1nT7ra44EAAAAZQZsASeEPJlMCG//+p4QBneif6obMfgKHgAAAABJBnz5FETwr/wE/siF2G+l5qkgAAAAQAZ9fakK/AUhRomRNKzZlQQAAABxBm0RJqEFomUwIZ//+nhAPXrl1scIi4h/f0PmAAAAAEEGfYkURLC//AWVV3HsCSpkAAAAPAZ+BdEK/AexpWMHJZk7AAAAAEAGfg2pCvwHfH8XuhyQaR/kAAAAZQZuFSahBbJlMCG///qeEBEuzG8+C2nbSPwAAABhBm6hJ4QpSZTAhn/6eEA6W/v4JxH1ZtSUAAAASQZ/GRTRMK/8B0bL9UexSHumBAAAAEAGf52pCvwHGCJmm+kg4kXAAAAAZQZvpSahBaJlMCGf//p4QBdPQX7PTH1f6XgAAABhBmgpJ4QpSZTAhn/6eEAOf6+/kSI+sIdMAAAAYQZorSeEOiZTAhn/+nhACaiHH88F/JDTsAAAAGEGaTEnhDyZTAhn//p4QAm3xD+2Qx9YRZQAAABhBmm1J4Q8mUwIZ//6eEAGT9ffyJEfWEh8AAAAYQZqOSeEPJlMCGf/+nhAA/vr7+RIj6wmpAAAAGEGar0nhDyZTAhn//p4QAKxXuNC6b7rfJQAAABlBmtBJ4Q8mUwIb//6nhAAsfup+o40JDkvAAAAAGUGa8UnhDyZTAhv//qeEABzweFOs6fdcNIAAAAAdQZsUSeEPJlMCG//+p4QAHc99nu2XbZj1ihIklOEAAAASQZ8yRRE8K/8AGIZua48VTllzAAAADwGfU2pCvwAYglpUigSsHgAAABpBm1VJqEFomUwIb//+p4QAEu+On1HGhIdZQQAAAB5Bm3dJ4QpSZTBREsN//qeEABJUvazJ37B/Vg84wcAAAAAQAZ+WakK/AA7bPmN0OSDqOQAAABxBm5lJ4Q6JlMFEw3/+p4QAG5dWzE/1dvdT9rVZAAAAEAGfuGpCvwAXRRomRNKzuUAAAAAZQZu6SeEPJlMCHf/+qZYADfe0vC1BP7A9oQAAABxBm91J4Q8mUwId//6plgAVL5Bl1qjdI0nMfx/TAAAAEEGf+0URPCv/ACGygB2SVVEAAAAPAZ4cakK/ACFLFthnqz4nAAAAF0GaAUmoQWiZTAh3//6plgAgP0c/JInAAAAADkGeP0URLC//ACa0AHpgAAAAEAGeXnRCvwA01lXdX47wDSEAAAAPAZ5AakK/ACFKkbrPVnxOAAAAE0GaRUmoQWyZTAh3//6plgAAlYEAAAAMQZ5jRRUsL/8AALKAAAAADwGegnRCvwAhSpHEdl2WWwAAAA8BnoRqQr8AIUqRus9WfE8AAAATQZqJSahBbJlMCHf//qmWAACVgQAAAAxBnqdFFSwv/wAAsoEAAAAPAZ7GdEK/ACFKkcR2XZZbAAAADwGeyGpCvwAhSpG6z1Z8TgAAABNBms1JqEFsmUwId//+qZYAAJWBAAAADEGe60UVLC//AACygAAAAA8Bnwp0Qr8AIUqRxHZdllsAAAAPAZ8MakK/ACFKkbrPVnxPAAAAE0GbEUmoQWyZTAh3//6plgAAlYEAAAAMQZ8vRRUsL/8AALKBAAAADwGfTnRCvwAhSpHEdl2WWwAAAA8Bn1BqQr8AIUqRus9WfE4AAAATQZtVSahBbJlMCHf//qmWAACVgQAAAAxBn3NFFSwv/wAAsoAAAAAPAZ+SdEK/ACFKkcR2XZZbAAAADwGflGpCvwAhSpG6z1Z8TwAAABNBm5lJqEFsmUwId//+qZYAAJWAAAAADEGft0UVLC//AACygQAAAA8Bn9Z0Qr8AIUqRxHZdllsAAAAPAZ/YakK/ACFKkbrPVnxOAAAAE0Gb3UmoQWyZTAh3//6plgAAlYEAAAAMQZ/7RRUsL/8AALKAAAAADwGeGnRCvwAhSpHEdl2WWwAAAA8BnhxqQr8AIUqRus9WfE8AAAATQZoBSahBbJlMCHf//qmWAACVgAAAAAxBnj9FFSwv/wAAsoAAAAAPAZ5edEK/ACFKkcR2XZZbAAAADwGeQGpCvwAhSpG6z1Z8TgAAABNBmkVJqEFsmUwId//+qZYAAJWBAAAADEGeY0UVLC//AACygAAAAA8BnoJ0Qr8AIUqRxHZdllsAAAAQAZ6EakK/ADTJWxersOTIQQAAABpBmohJqEFsmUwId//+qZYAFU99X12INxUVMQAAABJBnqZFFSwr/wAhsnznWT5OboEAAAAOAZ7HakK/ACHBoXe9SqoAAAAbQZrLSahBbJlMCHf//qmWABUxcgs5j3Nl5NwwAAAAEUGe6UUVLCv/ACG7O/6OSKuLAAAADwGfCmpCvwAhuxHkwPXurwAAABNBmw9JqEFsmUwId//+qZYAAJWAAAAADEGfLUUVLC//AACygQAAAA8Bn0x0Qr8AIUqRxHZdllsAAAAPAZ9OakK/ACFKkbrPVnxPAAAAE0GbU0moQWyZTAh3//6plgAAlYAAAAAMQZ9xRRUsL/8AALKAAAAADwGfkHRCvwAhSpHEdl2WWwAAAA8Bn5JqQr8AIUqRus9WfE4AAAATQZuXSahBbJlMCHf//qmWAACVgAAAAAxBn7VFFSwv/wAAsoEAAAAPAZ/UdEK/ACFKkcR2XZZbAAAADwGf1mpCvwAhSpG6z1Z8TwAAABNBm9tJqEFsmUwId//+qZYAAJWBAAAADEGf+UUVLC//AACygAAAAA8Bnhh0Qr8AIUqRxHZdllsAAAAPAZ4aakK/ACFKkbrPVnxOAAAAEkGaH0moQWyZTAhv//6nhAABJwAAAAxBnj1FFSwv/wAAsoEAAAAPAZ5cdEK/ACFKkcR2XZZbAAAADwGeXmpCvwAhSpG6z1Z8TgAAABlBmkJJqEFsmUwIb//+p4QAKxitIIRP8twjAAAAEUGeYEUVLCv/ACK7FYJCVv0GAAAADgGegWpCvwAiuyYrgSwZAAAAEkGahkmoQWyZTAhn//6eEAAEfAAAABNBnqRFFSwv/wAZyJblMx8xEVfpAAAAEAGew3RCvwAju47ytlD0/YEAAAAQAZ7FakK/ACK7RCbjPr0/uQAAABlBmsdJqEFsmUwIZ//+nhAAqPumxlybKt9NAAAAHEGa6UvhCEKUkRggoB/IB/YeAUVLCv/+OEAAEXAAAAAlAZ8IakK/Aq9j7UHE3arDSSblqoYHLLW84PS7vZoedeGSNGvk4AAAC8Btb292AAAAbG12aGQAAAAAAAAAAAAAAAAAAAPoAAAfkAABAAABAAAAAAAAAAAAAAAAAQAAAAAAAAAAAAAAAAAAAAEAAAAAAAAAAAAAAAAAAEAAAAAAAAAAAAAAAAAAAAAAAAAAAAAAAAAAAAAAAAACAAAK6nRyYWsAAABcdGtoZAAAAAMAAAAAAAAAAAAAAAEAAAAAAAAfkAAAAAAAAAAAAAAAAAAAAAAAAQAAAAAAAAAAAAAAAAAAAAEAAAAAAAAAAAAAAAAAAEAAAAABEAAAARAAAAAAACRlZHRzAAAAHGVsc3QAAAAAAAAAAQAAH5AAAAQAAAEAAAAACmJtZGlhAAAAIG1kaGQAAAAAAAAAAAAAAAAAADIAAAGUAFXEAAAAAAAtaGRscgAAAAAAAAAAdmlkZQAAAAAAAAAAAAAAAFZpZGVvSGFuZGxlcgAAAAoNbWluZgAAABR2bWhkAAAAAQAAAAAAAAAAAAAAJGRpbmYAAAAcZHJlZgAAAAAAAAABAAAADHVybCAAAAABAAAJzXN0YmwAAACVc3RzZAAAAAAAAAABAAAAhWF2YzEAAAAAAAAAAQAAAAAAAAAAAAAAAAAAAAABEAEQAEgAAABIAAAAAAAAAAEAAAAAAAAAAAAAAAAAAAAAAAAAAAAAAAAAAAAAAAAAAAAY//8AAAAvYXZjQwH0AA3/4QAXZ/QADZGbKCIR0IAAAAMAgAAAGQeKFMsBAAVo6+PESAAAABhzdHRzAAAAAAAAAAEAAADKAAACAAAAABRzdHNzAAAAAAAAAAEAAAABAAAFmGN0dHMAAAAAAAAAsQAAAAEAAAQAAAAAAQAACAAAAAACAAACAAAAAAIAAAQAAAAAAQAACAAAAAACAAACAAAAAAEAAAQAAAAAAQAACAAAAAACAAACAAAAAAUAAAQAAAAAAQAACgAAAAABAAAEAAAAAAEAAAAAAAAAAQAAAgAAAAABAAAKAAAAAAEAAAQAAAAAAQAAAAAAAAABAAACAAAAAAEAAAoAAAAAAQAABAAAAAABAAAAAAAAAAEAAAIAAAAAAQAACgAAAAABAAAEAAAAAAEAAAAAAAAAAQAAAgAAAAABAAAKAAAAAAEAAAQAAAAAAQAAAAAAAAABAAACAAAAAAEAAAoAAAAAAQAABAAAAAABAAAAAAAAAAEAAAIAAAAAAQAACgAAAAABAAAEAAAAAAEAAAAAAAAAAQAAAgAAAAABAAAKAAAAAAEAAAQAAAAAAQAAAAAAAAABAAACAAAAAAEAAAQAAAAAAQAABgAAAAABAAACAAAAAAEAAAoAAAAAAQAABAAAAAABAAAAAAAAAAEAAAIAAAAAAQAACAAAAAACAAACAAAAAAEAAAYAAAAAAQAAAgAAAAABAAAEAAAAAAEAAAgAAAAAAgAAAgAAAAABAAAKAAAAAAEAAAQAAAAAAQAAAAAAAAABAAACAAAAAAEAAAoAAAAAAQAABAAAAAABAAAAAAAAAAEAAAIAAAAAAQAACgAAAAABAAAEAAAAAAEAAAAAAAAAAQAAAgAAAAABAAAKAAAAAAEAAAQAAAAAAQAAAAAAAAABAAACAAAAAAEAAAoAAAAAAQAABAAAAAABAAAAAAAAAAEAAAIAAAAAAQAACgAAAAABAAAEAAAAAAEAAAAAAAAAAQAAAgAAAAABAAAEAAAAAAEAAAYAAAAAAQAAAgAAAAABAAAEAAAAAAEAAAgAAAAAAgAAAgAAAAABAAAKAAAAAAEAAAQAAAAAAQAAAAAAAAABAAACAAAAAAEAAAQAAAAAAQAACAAAAAACAAACAAAAAAkAAAQAAAAAAQAACAAAAAACAAACAAAAAAEAAAQAAAAAAQAABgAAAAABAAACAAAAAAEAAAYAAAAAAQAAAgAAAAABAAAEAAAAAAEAAAgAAAAAAgAAAgAAAAABAAAKAAAAAAEAAAQAAAAAAQAAAAAAAAABAAACAAAAAAEAAAoAAAAAAQAABAAAAAABAAAAAAAAAAEAAAIAAAAAAQAACgAAAAABAAAEAAAAAAEAAAAAAAAAAQAAAgAAAAABAAAKAAAAAAEAAAQAAAAAAQAAAAAAAAABAAACAAAAAAEAAAoAAAAAAQAABAAAAAABAAAAAAAAAAEAAAIAAAAAAQAACgAAAAABAAAEAAAAAAEAAAAAAAAAAQAAAgAAAAABAAAKAAAAAAEAAAQAAAAAAQAAAAAAAAABAAACAAAAAAEAAAoAAAAAAQAABAAAAAABAAAAAAAAAAEAAAIAAAAAAQAACgAAAAABAAAEAAAAAAEAAAAAAAAAAQAAAgAAAAABAAAKAAAAAAEAAAQAAAAAAQAAAAAAAAABAAACAAAAAAEAAAgAAAAAAgAAAgAAAAABAAAIAAAAAAIAAAIAAAAAAQAACgAAAAABAAAEAAAAAAEAAAAAAAAAAQAAAgAAAAABAAAKAAAAAAEAAAQAAAAAAQAAAAAAAAABAAACAAAAAAEAAAoAAAAAAQAABAAAAAABAAAAAAAAAAEAAAIAAAAAAQAACgAAAAABAAAEAAAAAAEAAAAAAAAAAQAAAgAAAAABAAAKAAAAAAEAAAQAAAAAAQAAAAAAAAABAAACAAAAAAEAAAgAAAAAAgAAAgAAAAABAAAKAAAAAAEAAAQAAAAAAQAAAAAAAAABAAACAAAAAAEAAAQAAAAAAQAABgAAAAABAAACAAAAABxzdHNjAAAAAAAAAAEAAAABAAAAygAAAAEAAAM8c3RzegAAAAAAAAAAAAAAygAABPgAAAAoAAAAFAAAABMAAAAeAAAAHAAAAB4AAAAVAAAAEgAAAB0AAAAeAAAAEwAAABEAAAAfAAAAHgAAABsAAAAcAAAAHQAAABYAAAAUAAAAFAAAABQAAAAXAAAAFAAAABQAAAAUAAAAFwAAABQAAAAUAAAAFAAAABcAAAAUAAAAFAAAABQAAAAXAAAAFAAAABQAAAAUAAAAFwAAABQAAAAUAAAAFAAAABYAAAAUAAAAFAAAABQAAAAWAAAAFAAAABQAAAAUAAAAHgAAACUAAAATAAAAIwAAABkAAAAUAAAAFAAAACEAAAAVAAAAEgAAACkAAAAUAAAAHQAAAB8AAAAWAAAAEgAAACIAAAAVAAAAFAAAABMAAAAXAAAAEAAAABQAAAATAAAAFwAAABAAAAAUAAAAEwAAABcAAAAQAAAAFAAAABMAAAAWAAAAEAAAABQAAAATAAAAFgAAABAAAAAUAAAAEwAAAB4AAAAhAAAAFAAAAB0AAAAdAAAAFgAAABQAAAAgAAAAFAAAABMAAAAUAAAAHQAAABwAAAAWAAAAFAAAAB0AAAAcAAAAHAAAABwAAAAcAAAAHAAAABwAAAAdAAAAHQAAACEAAAAWAAAAEwAAAB4AAAAiAAAAFAAAACAAAAAUAAAAHQAAACAAAAAUAAAAEwAAABsAAAASAAAAFAAAABMAAAAXAAAAEAAAABMAAAATAAAAFwAAABAAAAATAAAAEwAAABcAAAAQAAAAEwAAABMAAAAXAAAAEAAAABMAAAATAAAAFwAAABAAAAATAAAAEwAAABcAAAAQAAAAEwAAABMAAAAXAAAAEAAAABMAAAATAAAAFwAAABAAAAATAAAAEwAAABcAAAAQAAAAEwAAABQAAAAeAAAAFgAAABIAAAAfAAAAFQAAABMAAAAXAAAAEAAAABMAAAATAAAAFwAAABAAAAATAAAAEwAAABcAAAAQAAAAEwAAABMAAAAXAAAAEAAAABMAAAATAAAAFgAAABAAAAATAAAAEwAAAB0AAAAVAAAAEgAAABYAAAAXAAAAFAAAABQAAAAdAAAAIAAAACkAAAAUc3RjbwAAAAAAAAABAAAAMAAAAGJ1ZHRhAAAAWm1ldGEAAAAAAAAAIWhkbHIAAAAAAAAAAG1kaXJhcHBsAAAAAAAAAAAAAAAALWlsc3QAAAAlqXRvbwAAAB1kYXRhAAAAAQAAAABMYXZmNTguMTIuMTAw\" type=\"video/mp4\" />\n",
       "             </video>"
      ],
      "text/plain": [
       "<IPython.core.display.HTML object>"
      ]
     },
     "execution_count": 79,
     "metadata": {},
     "output_type": "execute_result"
    }
   ],
   "source": [
    "HTML(display_videos('cnn_test10.mp4'))"
   ]
  },
  {
   "cell_type": "code",
   "execution_count": 80,
   "metadata": {},
   "outputs": [
    {
     "data": {
      "text/html": [
       "<video alt=\"test\" controls>\n",
       "                <source src=\"data:video/mp4;base64,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\" type=\"video/mp4\" />\n",
       "             </video>"
      ],
      "text/plain": [
       "<IPython.core.display.HTML object>"
      ]
     },
     "execution_count": 80,
     "metadata": {},
     "output_type": "execute_result"
    }
   ],
   "source": [
    "HTML(display_videos('fc_test10.mp4'))"
   ]
  },
  {
   "cell_type": "markdown",
   "metadata": {},
   "source": []
  },
  {
   "cell_type": "markdown",
   "metadata": {},
   "source": [
    "***\n",
    "\n",
    "The algorithm tends to not explore the map which can be an issue. We propose two ideas in order to encourage exploration:\n",
    "1. Incorporating a decreasing $\\epsilon$-greedy exploration. You can use the method ```set_epsilon```\n",
    "2. Append via the environment a new state that describes if a cell has been visited or not\n",
    "\n",
    "***\n",
    "__Question 10__ Design a new ```train_explore``` function and environment class ```EnvironmentExploring``` to tackle the issue of exploration.\n",
    "\n"
   ]
  },
  {
   "cell_type": "code",
   "execution_count": null,
   "metadata": {
    "collapsed": true
   },
   "outputs": [],
   "source": [
    "def train_explore(agent,env,epoch,prefix=''):\n",
    "    pass\n",
    "        \n",
    "class EnvironmentExploring(object):\n",
    "    def __init__(self, grid_size=10, max_time=500, temperature=0.1):\n",
    "        pass\n",
    "    \n",
    "## use those samples of code:\n",
    "#In train explore:\n",
    "state, reward, game_over = env.act(action, train=True)\n",
    "\n",
    "## In Environment exploring:\n",
    "# You will have to change n_state to 3 because you will use one more layer!\n",
    "reward = 0\n",
    "if train:\n",
    "    reward = -self.malus_position[self.x, self.y]\n",
    "self.malus_position[self.x, self.y] = 0.1\n",
    "\n",
    "reward = reward + self.board[self.x, self.y]\n",
    "# 3 \"feature\" states instead of 2\n",
    "state = np.concatenate((self.malus_position.reshape(self.grid_size, self.grid_size,1),\n",
    "                                self.board.reshape(self.grid_size, self.grid_size,1),\n",
    "                        self.position.reshape(self.grid_size, self.grid_size,1)),axis=2)"
   ]
  },
  {
   "cell_type": "code",
   "execution_count": null,
   "metadata": {
    "collapsed": true
   },
   "outputs": [],
   "source": [
    "# Training\n",
    "env = EnvironmentExploring(grid_size=size, max_time=T, temperature=0.3)\n",
    "agent = DQN_CNN(size, lr=.1, epsilon = 0.1, memory_size=2000, batch_size = 32,n_state=3)\n",
    "train_explore(agent, env, epochs_train, prefix='cnn_train_explore')\n",
    "HTML(display_videos('cnn_train_explore10.mp4'))"
   ]
  },
  {
   "cell_type": "code",
   "execution_count": null,
   "metadata": {
    "collapsed": true
   },
   "outputs": [],
   "source": [
    "# Evaluation\n",
    "test(agent,env,epochs_test,prefix='cnn_test_explore')\n",
    "HTML(display_videos('cnn_test_explore10.mp4'))"
   ]
  },
  {
   "cell_type": "markdown",
   "metadata": {},
   "source": [
    "***\n",
    "***\n",
    "__BONUS question__ Use the expert DQN from the previous question to generate some winning games. Train a model that mimicks its behavior. Compare the performances."
   ]
  },
  {
   "cell_type": "markdown",
   "metadata": {},
   "source": []
  },
  {
   "cell_type": "markdown",
   "metadata": {},
   "source": [
    "***"
   ]
  }
 ],
 "metadata": {
  "kernelspec": {
   "display_name": "Python 3",
   "language": "python",
   "name": "python3"
  },
  "language_info": {
   "codemirror_mode": {
    "name": "ipython",
    "version": 3
   },
   "file_extension": ".py",
   "mimetype": "text/x-python",
   "name": "python",
   "nbconvert_exporter": "python",
   "pygments_lexer": "ipython3",
   "version": "3.6.8"
  }
 },
 "nbformat": 4,
 "nbformat_minor": 2
}
